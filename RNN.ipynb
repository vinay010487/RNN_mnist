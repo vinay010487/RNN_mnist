{
  "nbformat": 4,
  "nbformat_minor": 0,
  "metadata": {
    "colab": {
      "name": "RNN.ipynb",
      "provenance": [],
      "authorship_tag": "ABX9TyMq/tZpx/7RZ8U4E51SKu7M",
      "include_colab_link": true
    },
    "kernelspec": {
      "name": "python3",
      "display_name": "Python 3"
    },
    "language_info": {
      "name": "python"
    }
  },
  "cells": [
    {
      "cell_type": "markdown",
      "metadata": {
        "id": "view-in-github",
        "colab_type": "text"
      },
      "source": [
        "<a href=\"https://colab.research.google.com/github/vinay010487/RNN_mnist/blob/main/RNN.ipynb\" target=\"_parent\"><img src=\"https://colab.research.google.com/assets/colab-badge.svg\" alt=\"Open In Colab\"/></a>"
      ]
    },
    {
      "cell_type": "code",
      "metadata": {
        "colab": {
          "base_uri": "https://localhost:8080/"
        },
        "id": "8p9GLDXJAa_Y",
        "outputId": "8d6ccbb6-de11-485e-9b2e-78b96ecb3146"
      },
      "source": [
        "import numpy as np\n",
        "from tensorflow.keras.models import Sequential\n",
        "from tensorflow.keras.layers import Dense, Activation, SimpleRNN\n",
        "from tensorflow.keras.utils import to_categorical, plot_model\n",
        "from tensorflow.keras.datasets import mnist\n",
        "   # load mnist dataset\n",
        "(x_train, y_train), (x_test, y_test) = mnist.load_data()\n",
        "   # compute the number of labels\n",
        "num_labels = len(np.unique(y_train))\n",
        "   # convert to one-hot vector\n",
        "y_train = to_categorical(y_train)\n",
        "y_test = to_categorical(y_test)\n",
        "   # resize and normalize\n",
        "image_size = x_train.shape[1]\n",
        "x_train = np.reshape(x_train,[-1, image_size, image_size])\n",
        "x_test = np.reshape(x_test,[-1, image_size, image_size])\n",
        "x_train = x_train.astype('float32') / 255\n",
        "x_test = x_test.astype('float32') / 255\n",
        "   # network parameters\n",
        "input_shape = (image_size, image_size)\n",
        "batch_size = 128\n",
        "units = 256\n",
        "dropout = 0.2\n",
        "   # model is RNN with 256 units, input is 28-dim vector 28 timesteps\n",
        "model = Sequential()\n",
        "model.add(SimpleRNN(units=units,\n",
        "                       dropout=dropout,\n",
        "                       input_shape=input_shape))\n",
        "model.add(Dense(num_labels))\n",
        "model.add(Activation('softmax'))\n",
        "model.summary()\n",
        "plot_model(model, to_file='rnn-mnist.png', show_shapes=True)\n",
        "   # loss function for one-hot vector\n",
        "   # use of sgd optimizer\n",
        "   # accuracy is good metric for classification tasks\n",
        "model.compile(loss='categorical_crossentropy',\n",
        "                 optimizer='sgd',\n",
        "                 metrics=['accuracy'])\n",
        "   # train the network\n",
        "model.fit(x_train, y_train, epochs=20, batch_size=batch_size)\n",
        "_, acc = model.evaluate(x_test,\n",
        "                           y_test,\n",
        "                           batch_size=batch_size,\n",
        "                           verbose=0)\n",
        "print(\"\\nTest accuracy: %.1f%%\" % (100.0 * acc))\n"
      ],
      "execution_count": 19,
      "outputs": [
        {
          "output_type": "stream",
          "name": "stdout",
          "text": [
            "Model: \"sequential_3\"\n",
            "_________________________________________________________________\n",
            " Layer (type)                Output Shape              Param #   \n",
            "=================================================================\n",
            " simple_rnn_5 (SimpleRNN)    (None, 256)               72960     \n",
            "                                                                 \n",
            " dense_2 (Dense)             (None, 10)                2570      \n",
            "                                                                 \n",
            " activation_3 (Activation)   (None, 10)                0         \n",
            "                                                                 \n",
            "=================================================================\n",
            "Total params: 75,530\n",
            "Trainable params: 75,530\n",
            "Non-trainable params: 0\n",
            "_________________________________________________________________\n",
            "Epoch 1/20\n",
            "469/469 [==============================] - 30s 63ms/step - loss: 0.7561 - accuracy: 0.7801\n",
            "Epoch 2/20\n",
            "469/469 [==============================] - 29s 63ms/step - loss: 0.3271 - accuracy: 0.9046\n",
            "Epoch 3/20\n",
            "469/469 [==============================] - 29s 62ms/step - loss: 0.2510 - accuracy: 0.9261\n",
            "Epoch 4/20\n",
            "469/469 [==============================] - 29s 62ms/step - loss: 0.2065 - accuracy: 0.9389\n",
            "Epoch 5/20\n",
            "469/469 [==============================] - 29s 62ms/step - loss: 0.1791 - accuracy: 0.9470\n",
            "Epoch 6/20\n",
            "469/469 [==============================] - 29s 62ms/step - loss: 0.1595 - accuracy: 0.9530\n",
            "Epoch 7/20\n",
            "469/469 [==============================] - 29s 63ms/step - loss: 0.1450 - accuracy: 0.9561\n",
            "Epoch 8/20\n",
            "469/469 [==============================] - 29s 62ms/step - loss: 0.1323 - accuracy: 0.9602\n",
            "Epoch 9/20\n",
            "469/469 [==============================] - 29s 63ms/step - loss: 0.1240 - accuracy: 0.9617\n",
            "Epoch 10/20\n",
            "469/469 [==============================] - 29s 62ms/step - loss: 0.1136 - accuracy: 0.9655\n",
            "Epoch 11/20\n",
            "469/469 [==============================] - 29s 62ms/step - loss: 0.1068 - accuracy: 0.9683\n",
            "Epoch 12/20\n",
            "469/469 [==============================] - 29s 62ms/step - loss: 0.1024 - accuracy: 0.9686\n",
            "Epoch 13/20\n",
            "469/469 [==============================] - 29s 63ms/step - loss: 0.0972 - accuracy: 0.9707\n",
            "Epoch 14/20\n",
            "469/469 [==============================] - 29s 62ms/step - loss: 0.0917 - accuracy: 0.9724\n",
            "Epoch 15/20\n",
            "469/469 [==============================] - 29s 62ms/step - loss: 0.0894 - accuracy: 0.9727\n",
            "Epoch 16/20\n",
            "469/469 [==============================] - 30s 63ms/step - loss: 0.0851 - accuracy: 0.9743\n",
            "Epoch 17/20\n",
            "469/469 [==============================] - 30s 63ms/step - loss: 0.0805 - accuracy: 0.9757\n",
            "Epoch 18/20\n",
            "469/469 [==============================] - 29s 63ms/step - loss: 0.0786 - accuracy: 0.9763\n",
            "Epoch 19/20\n",
            "469/469 [==============================] - 29s 63ms/step - loss: 0.0758 - accuracy: 0.9766\n",
            "Epoch 20/20\n",
            "469/469 [==============================] - 30s 63ms/step - loss: 0.0747 - accuracy: 0.9762\n",
            "\n",
            "Test accuracy: 98.1%\n"
          ]
        }
      ]
    },
    {
      "cell_type": "code",
      "metadata": {
        "id": "zB-FwxLYAvXY"
      },
      "source": [
        ""
      ],
      "execution_count": null,
      "outputs": []
    }
  ]
}